{
  "nbformat": 4,
  "nbformat_minor": 0,
  "metadata": {
    "colab": {
      "name": "Урок 8. Производная функции нескольких переменных. Часть 1.ipynb",
      "provenance": [],
      "collapsed_sections": []
    },
    "kernelspec": {
      "name": "python3",
      "display_name": "Python 3"
    },
    "language_info": {
      "name": "python"
    }
  },
  "cells": [
    {
      "cell_type": "code",
      "metadata": {
        "id": "lAFX1BgZLvCn"
      },
      "source": [
        ""
      ],
      "execution_count": null,
      "outputs": []
    },
    {
      "cell_type": "markdown",
      "metadata": {
        "id": "KOpZHI-OLx1M"
      },
      "source": [
        "# Домашнее задание по теме «Производные функций нескольких переменных»."
      ]
    },
    {
      "cell_type": "markdown",
      "metadata": {
        "id": "NgarqqjsL3Go"
      },
      "source": [
        "## 1.       Найти область определения функции.\n",
        "\n",
        "\n",
        "$z=\\sqrt{1 - x^3} + ln(y^2 - 1)$\n"
      ]
    },
    {
      "cell_type": "markdown",
      "metadata": {
        "id": "XTJjNTCl1mPf"
      },
      "source": [
        "### Решение\n",
        "\n",
        "\n",
        "$z=\\sqrt{1 - x^3} + ln(y^2 - 1)$\n",
        "\n",
        "\n",
        " Функция существует на интервалах\n",
        "\n",
        "$x \\in (-\\infty;1]$\n",
        "\n",
        "\n",
        "$y \\in (-\\infty;1)$ $y \\in (1; +\\infty)$\n",
        "\n"
      ]
    },
    {
      "cell_type": "markdown",
      "metadata": {
        "id": "1vkmiIKPMbdU"
      },
      "source": [
        "## 2.       Найти производные 1-го порядка функции.\n",
        "\n",
        "$z = (1 + \\frac{ln(x)}{ln(y)})^3$"
      ]
    },
    {
      "cell_type": "markdown",
      "metadata": {
        "id": "E8ruh7j5AFRZ"
      },
      "source": [
        "### Рещение\n",
        "\n",
        "$z = (1 + \\frac{ln(x)}{ln(y)})^3$\n",
        "\n",
        "$\\frac{dz}{dx} = (1 + ln(x) * \\frac{1}{ln(y)})` = \\frac{1}{ln(y)} * \\frac{1}{x}$\n",
        "\n",
        "$\\frac{dz}{dy} = (1 + ln(x) * \\frac{1}{ln(y)})` = ln(x) * \\frac{0 - 1 * (ln(y))`}{ln^2(y)} =  ln(x) * \\frac{-\\frac{1}{y}}{ln^2(y)}= -ln(x)*\\frac{1}{y}*ln^2(y)$"
      ]
    },
    {
      "cell_type": "markdown",
      "metadata": {
        "id": "2L3-VWkZprvI"
      },
      "source": [
        "## 3.       Найти полный дифференциал функции в точке (1;1).\n",
        "\n",
        "$z = \\sqrt{2xy + cos \\frac{x}{y}}$"
      ]
    },
    {
      "cell_type": "markdown",
      "metadata": {
        "id": "6_XTG3k2FNpS"
      },
      "source": [
        "### Решение \n",
        "\n",
        "\n",
        "$z = \\sqrt{2xy + cos \\frac{x}{y}} = (2xy + cos\\frac{x}{y})^{\\frac{1}{2}}$\n",
        "\n",
        "\n",
        "$\\frac{dz}{dx} = ((2xy + cos\\frac{x}{y})^{\\frac{1}{2}})` = $"
      ]
    },
    {
      "cell_type": "markdown",
      "metadata": {
        "id": "Mu30TdKCqCAx"
      },
      "source": [
        "## 4.       Исследовать на экстремум функцию\n",
        "\n",
        "$z = x^2 + xy + y^2 - 6x - 9y$\n",
        "\n",
        "\n",
        "1. Находят частные производные dz/dx и dz/dy.\n",
        "\n",
        "\n",
        "$\\frac{dz}{dx} = (x^2 + xy + y^2 - 6x - 9y)` = 2x + y + 0 -6 - 0 = 2x + y - 6$\n",
        "\n",
        "$\\frac{dz}{dy} = (x^2 + xy + y^2 - 6x - 9y)` = 0 + y + 2y - 0 - 9 = 3y - 9$\n",
        "\n",
        "\n",
        "2. Решают систему уравнений:\n",
        "\n",
        "$\n",
        "\\begin{equation*}\n",
        " \\begin{cases}\n",
        "   \\frac{dz}{dx} = 0 \n",
        "   \\\\\n",
        "   \\frac{dz}{dy} = 0\n",
        " \\end{cases}\n",
        "\\end{equation*}\n",
        "$\n",
        "\n",
        "\n",
        "$ 2x + y - 6 = 0 $\n",
        "\n",
        "$ 3y - 9 = 0 $\n",
        "\n",
        "$ 3y = 9$\n",
        "\n",
        "$ y = \\frac{9}{3} = 3$\n",
        "\n",
        "подставим y в первое уравнение\n",
        "\n",
        "\n",
        "$ 2x + 3 - 6 = 0$\n",
        "\n",
        "$ 2x = 3$\n",
        "\n",
        "$ x = \\frac{3}{2}$\n",
        "\n",
        "\n",
        "\n",
        "$\n",
        "\\begin{equation*}\n",
        " \\begin{cases}\n",
        "   x = \\frac{3}{2} \n",
        "   \\\\\n",
        "   y = 3\n",
        " \\end{cases}\n",
        "\\end{equation*}\n",
        "$\n",
        "\n",
        "\n",
        "3. Находят частные производные второго порядка:\n",
        "$ \\frac{d^2z}{dx^2}$, $\\frac{d^2z}{dx dy}$, $\\frac{d^2z}{dy^2}$\n",
        "\n",
        "\n",
        "\n",
        "$\n",
        "\\begin{equation*}\n",
        " \\begin{cases}\n",
        "   \\frac{dz}{dx} = 2x + y - 6 \n",
        "   \\\\\n",
        "   \\frac{dz}{dy} = 3y - 9\n",
        " \\end{cases}\n",
        "\\end{equation*}\n",
        "$\n",
        "\n",
        "\n",
        "\n",
        "$ \\frac{d^2z}{dx^2} = (2x + y - 6)` = 2$\n",
        "\n",
        "$\\frac{d^2z}{dx dy} = 0$\n",
        "\n",
        "$\\frac{d^2z}{dy^2} = (3y - 9)` = 3$\n",
        "\n",
        "\n",
        "$\n",
        "\n",
        "\\begin{vmatrix}\n",
        "  2& 0\\\\\n",
        "  0& 3\n",
        "\\end{vmatrix}\n",
        "\n",
        "$\n",
        "\n",
        "\n",
        "4 Посчитает детерминант:\n",
        "\n",
        "$\\Delta (M) = 2 * 3 - 0 * 0  = 6 > 0$\n",
        "\n",
        "значит точка  $M(\\frac{3}{2}, 3)$ является минимом"
      ]
    }
  ]
}