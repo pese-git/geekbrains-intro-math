{
  "nbformat": 4,
  "nbformat_minor": 0,
  "metadata": {
    "colab": {
      "name": "Урок 9. Производная функции нескольких переменных. Часть 2.ipynb",
      "provenance": [],
      "collapsed_sections": []
    },
    "kernelspec": {
      "name": "python3",
      "display_name": "Python 3"
    },
    "language_info": {
      "name": "python"
    }
  },
  "cells": [
    {
      "cell_type": "markdown",
      "metadata": {
        "id": "hbBykiPjLYO5"
      },
      "source": [
        "# ДЗ по теме “Функция нескольких переменных”"
      ]
    },
    {
      "cell_type": "markdown",
      "metadata": {
        "id": "nyYS4lhOLecu"
      },
      "source": [
        "## Исследовать функцию на условный экстремум\n",
        "\n",
        "1 $ U = 3 - 8x + 6y$, если $x^2+y^2=36$\n",
        "\n",
        "2 $ U = 2x^2 + 12xy + 32y^2 + 15$, если $x^2+16y^2=64$"
      ]
    },
    {
      "cell_type": "markdown",
      "metadata": {
        "id": "Ple-7507SHrE"
      },
      "source": [
        "### Решение"
      ]
    },
    {
      "cell_type": "markdown",
      "metadata": {
        "id": "A47W3M0rahcr"
      },
      "source": [
        "1 Исследовать функцию на условный экстремум $ U = 3 - 8x + 6y$, если $x^2+y^2=36$\n",
        "\n",
        "на первом шаге нужно представить уравнение связи в виде $\\phi(x,y) = 0$  и составить функцию Лагранжа:\n",
        "\n",
        "$L = f(x,y) + \\lambda * \\phi(x,y), где $\\lambda$ – так называемый множитель Лагранжа. \n",
        "\n",
        "В нашем случае: $ x^2+y^2=36 \\Rightarrow x^2+y^2 - 36 = 0$ и:\n",
        "\n",
        "$L = 3 - 8x + 6y + \\lambda * (x^2+y^2 - 36)$\n",
        "\n",
        "\n",
        "Алгоритм нахождения условных экстремумов весьма похож на схему отыскания «обычных» экстремумов. Найдём частные производные функции Лагранжа, при этом с «лямбдой» следует обращаться, как с константой:\n",
        "\n",
        "\n",
        "$ L_x` = \\frac{dL}{dx} = (3 - 8x + 6y + \\lambda * (x^2+y^2 - 36))` = 0 - 8 + 0 + \\lambda * 2x + 0 - 0 = -8 + \\lambda * 2x$\n",
        "\n",
        "$ L_y` = \\frac{dL}{dy} = (3 - 8x + 6y + \\lambda * (x^2+y^2 - 36))` = 0 - 0 + 6 + 0 + 2y - 0 = 6 + \\lambda * 2y$\n",
        "\n",
        "\n",
        "Решим систему уравнений:\n",
        "\n",
        "\n",
        "$-8 + \\lambda * 2x = 0 \\Rightarrow 2x = \\frac{8}{\\lambda} \\Rightarrow x = \\frac{8}{2 \\lambda}  \\Rightarrow x = \\frac{4}{\\lambda}$\n",
        "\n",
        "$6 + \\lambda * 2y = 0 = \\Rightarrow \\lambda 2y = -6 \\Rightarrow 2y = \\frac{-6}{\\lambda} \\Rightarrow y = \\frac{-6}{2\\lambda}\\Rightarrow y = \\frac{-3}{\\lambda}$\n",
        "\n",
        "$x^2+y^2 - 36 = 0 \\Rightarrow (\\frac{4}{\\lambda})^2 + (\\frac{3}{\\lambda})^2 - 36 = 0 \\Rightarrow \\frac{16}{\\lambda^2} + \\frac{9}{\\lambda^2} - 36 = 0  \\Rightarrow \\frac{25}{\\lambda^2} - 36 = 0 \\Rightarrow \\frac{25}{\\lambda^2} = 36  \\Rightarrow \\lambda^2 = \\frac{25}{36} \\Rightarrow \\lambda = \\sqrt{\\frac{25}{36}}  \\Rightarrow \\lambda = \\frac{5}{6} and \\lambda = -\\frac{5}{6}$\n",
        "\n",
        "\n",
        "При $\\lambda = \\frac{5}{6}$ $M_0(\\frac{24}{5}, -\\frac{18}{5})$\n",
        "\n",
        "При $\\lambda = -\\frac{5}{6}$ $M_0(-\\frac{24}{5}, +\\frac{18}{5})$\n",
        "\n",
        "\n",
        " Найдем вторую производную\n",
        "\n",
        " $L_{xx}``= (-8 + \\lambda * 2x)` = 2\\lambda$\n",
        "\n",
        " $L_{yy}`` = 6 + \\lambda * 2y = 2\\lambda$\n",
        "\n",
        "\n",
        " $L_{xy}``= (-8 + \\lambda * 2x)` = 0$\n",
        "\n",
        " $L_{yx}`` = (6 + \\lambda * 2y)' = 0$\n",
        "\n",
        "\n",
        " $\\phi_x` = (x^2+y^2 - 36)` = 2x$\n",
        "\n",
        " $\\phi_y` = (x^2+y^2 - 36)` = 2y$\n",
        "\n",
        "Составим матриццу A\n",
        "\n",
        "\\begin{vmatrix}\n",
        "  0& \\phi_x`& \\phi_y`\\\\\n",
        "  \\phi_x`& L_{xx}``& L_{xy}`` \\\\\n",
        "  \\phi_y`& L_{yx}``& L_{yy}``\n",
        "\\end{vmatrix}\n",
        "\n",
        "\n",
        "\n",
        "Если в стационарной точке $|A| < 0$, то функция достигает тамминимума, если $|A| > 0$ – то максимума.\n",
        "\n",
        "\n",
        "Заполним матрицу производными и вычислим определитель\n",
        "\n",
        "\n",
        "$\\begin{vmatrix}\n",
        "  0& 2x& 2y\\\\\n",
        "  2x& 2\\lambda& 0 \\\\\n",
        "  2y& 0& 2\\lambda\n",
        "\\end{vmatrix} = 0 * \n",
        "\\begin{vmatrix} \n",
        " 2\\lambda& 0\\\\\n",
        " 0& 2\\lambda \n",
        "\\end{vmatrix} - 2x * \n",
        "\\begin{vmatrix} \n",
        " 2x& 0\\\\\n",
        " 2y& 2\\lambda \n",
        "\\end{vmatrix} + 2y *\n",
        "\\begin{vmatrix} \n",
        " 2x& 2\\lambda\\\\\n",
        " 2y& 0 \n",
        "\\end{vmatrix} = 0 - 2x(2x*2\\lambda - 0) + 2y(0 - 2y*2\\lambda) = -8x^2\\lambda - 8y^2\\lambda = 8\\lambda(x^2 + y^2)$\n",
        "\n",
        "\n"
      ]
    },
    {
      "cell_type": "markdown",
      "metadata": {
        "id": "a5W8llRIfRU1"
      },
      "source": [
        "Вычислим по форуле $A_1$ при  $\\lambda = \\frac{5}{6}$ $M_0(\\frac{24}{5}, -\\frac{18}{5})$\n",
        "\n",
        "$8\\lambda(x^2 + y^2) = 8 * \\frac{5}{6}((\\frac{24}{5})^2 + (-\\frac{18}{5})^2) = 8 * \\frac{5}{6}(\\frac{576 + 324}{5^2}) = 8* \\frac{5}{6}*\\frac{900}{5^2} = 4* \\frac{1}{3}*\\frac{900}{5} = 4* \\frac{1}{1}*\\frac{300}{5} = 4 * 60 = 240 > 0$,\n",
        "\n",
        "таким образом, функция имеет максимум в точке $M_0(\\frac{24}{5}, -\\frac{18}{5})$."
      ]
    },
    {
      "cell_type": "markdown",
      "metadata": {
        "id": "pPSZIlS-kaZF"
      },
      "source": [
        "Вычислим по форуле $A_2$ при  $\\lambda = -\\frac{5}{6}$ $M_0(-\\frac{24}{5}, \\frac{18}{5})$\n",
        "\n",
        "$8\\lambda(x^2 + y^2) = 8 * (-\\frac{5}{6})(((-\\frac{24}{5})^2) + \\frac{18}{5}^2) = -8 * \\frac{5}{6}(\\frac{576 + 324}{5^2}) = -8* \\frac{5}{6}*\\frac{900}{5^2} = -4* \\frac{1}{3}*\\frac{900}{5} = -4* \\frac{1}{1}*\\frac{300}{5} = -4 * 60 = -240 < 0$,\n",
        "\n",
        "таким образом, функция имеет минимум в точке $M_0(-\\frac{24}{5}, \\frac{18}{5})$."
      ]
    },
    {
      "cell_type": "markdown",
      "metadata": {
        "id": "mMMmYg03Lvku"
      },
      "source": [
        "## 3 Найти произдводную функции $U = x^2 + y^2 + z^2$ по направлению вектора $\\overrightarrow{c}(-9,8,-12)$ в точку $M(8,-12,9)$"
      ]
    },
    {
      "cell_type": "markdown",
      "metadata": {
        "id": "cVuh_zwoXYIF"
      },
      "source": [
        "### Решение\n",
        "\n",
        "1 Найдём частные производные в точке М(8,-12, 9)\n",
        "\n",
        "$\\frac{dU}{dx} = (x^2 + y^2 + z^2)` = 2x$\n",
        "\n",
        "$\\frac{dU}{dy} = (x^2 + y^2 + z^2)` = 2y$\n",
        "\n",
        "$\\frac{dU}{dz} = (x^2 + y^2 + z^2)` = 2z$\n",
        "\n",
        "\n",
        "\n",
        "$\\frac{dU}{dx} =  2 * 8 = 16$\n",
        "\n",
        "$\\frac{dU}{dy} = 2 * -12 = -24$\n",
        "\n",
        "$\\frac{dU}{dz} = = 2 * 9 = 18$\n",
        "\n",
        "\n",
        "\n",
        "2 Найдём координаты направляющего вектора единичной длины по формуле $\\frac{dU}{dc} = \\frac{dU}{dx}*cos a + \\frac{dU}{dy} * cos b + \\frac{dU}{dz} * cos g$\n",
        "\n",
        "\n",
        "$|\\overrightarrow{c}| = \\sqrt{(-9)^2 + 8^2 + (-12)^2} = \\sqrt{81 + 64 + 144} = \\sqrt{289} = 17$\n",
        "\n",
        "\n",
        "$\\overrightarrow{c}_0 = \\{-\\frac{9}{17},\\frac{8}{17},-\\frac{12}{17}\\}$\n",
        "\n",
        "\n",
        "$\\frac{dU}{dc}|_{M_0} = 16 * (-\\frac{9}{17}) + (-24)* \\frac{8}{17} + 18 * (-\\frac{12}{17}) =-16\\frac{9}{17} - 24\\frac{8}{17} - 18\\frac{12}{17} = -1(\\frac{16*9}{17} + \\frac{24 * 8}{17} + \\frac{18 * 12}{17}) = -(\\frac{16*9 + 24 * 8 + 18 * 12}{17}) = -(\\frac{144 + 192 + 216}{17}) = -(\\frac{144 + 192 + 216}{17}) = - \\frac{552}{17}$\n",
        "\n"
      ]
    },
    {
      "cell_type": "markdown",
      "metadata": {
        "id": "0R-sYp88NkbM"
      },
      "source": [
        "## 4 Найти произдводную функции $U = e^{x^2 + y^2 + z^2}$ по направлению вектора $\\overrightarrow{d}(4,-13,-16)$ в точку $L(-16,4,-13)$"
      ]
    },
    {
      "cell_type": "markdown",
      "metadata": {
        "id": "Hb5gw36LxnRg"
      },
      "source": [
        "### Решение\n",
        "\n",
        "1 Найдём частные производные в точке L(-16,4,-13)\n",
        "\n",
        "Производная\n",
        "\n",
        "$\\frac{dU}{dx} = (e^{x^2 + y^2 + z^2})` = 2x$\n",
        "\n",
        "Продифференцируем по правилу дифференцирования сложных функций, которое гласит, что $\\frac{dU}{dy} = [f(g(v))]$ равняется $f`(g(v))g`(v)$, где $f`(v) = e^x$ и $g`(v) = x^2+y^2+z^2$\n",
        "\n",
        "Замени для $e^{x^2 + y^2 + z^2}$, как $ u = x^2 + y^2 + z^2$ и получим $e^u$\n",
        "\n",
        "Уравнение получит вид:\n",
        "\n",
        "$ \\frac{dU}{dx} = (e^u)` * (x^2 + y^2 + z^2)` $\n",
        "\n",
        "Производная $(e^u)` = e^u$\n",
        "\n",
        "\n",
        "Поэтому:\n",
        "\n",
        "$ \\frac{dU}{dx} = (e^u)` * (x^2 + y^2 + z^2)` = e^{x^2 + y^2 + z^2} * (2x) $\n",
        "\n",
        "$\\frac{dU}{dy} = (e^u)` * (x^2 + y^2 + z^2)` = e^{x^2 + y^2 + z^2} * (2y)$\n",
        "\n",
        "$\\frac{dU}{dz} = (e^u)` * (x^2 + y^2 + z^2)` = e^{x^2 + y^2 + z^2} * (2z)$\n",
        "\n",
        "\n",
        "Подставим координаты точки L(-16,4,-13)\n",
        "\n",
        "$\\frac{dU}{dx} =  e^{(-16)^2 + 4^2 + (-13)^2} * (2 * (-16)) = e^{256 + 16 + 169} * (-32) = e^{441} * (-32)$\n",
        "\n",
        "$\\frac{dU}{dy} = e^{(-16)^2 + 4^2 + (-13)^2} * (2 * 4) = e^{256 + 16 + 169} * 8 = e^{441} * 8$\n",
        "\n",
        "$\\frac{dU}{dz} = e^{(-16)^2 + 4^2 + (-13)^2} * (2 * (-13)) = e^{256 + 16 + 169} * (-26) = e^{441} * (-26)$\n",
        "\n",
        "\n",
        "\n",
        "2 Найдём координаты направляющего вектора единичной длины по формуле $\\frac{dU}{dd} = \\frac{dU}{dx}*cos a + \\frac{dU}{dy} * cos b + \\frac{dU}{dz} * cos g$\n",
        "\n",
        "\n",
        "$\\overrightarrow{d}(4,-13,-16)$\n",
        "\n",
        "\n",
        "$|\\overrightarrow{d}| = \\sqrt{4^2 + (-13)^2 + (-16)^2} = \\sqrt{16+169+256} = \\sqrt{441} = 21$\n",
        "\n",
        "\n",
        "\n",
        "$\\overrightarrow{d}_0 = \\{\\frac{4}{21},\\frac{ -13}{ 21},\\frac{-16}{21}\\}$\n",
        "\n",
        "\n",
        "$\\frac{dU}{dd}|_{L_0} = e^{441} * (-32) * \\frac{4}{21} + e^{441} * 8 * \\frac{ -13}{ 21} + e^{441} * (-26) * \\frac{-16}{21} = e^{441}* (\\frac{-32 * 4}{21} + \\frac{8 * (-13)}{21} + \\frac{-26 * (-16)}{21}) = e^{441}* \\frac{-128 + (-104) + 416}{21} = e^{441}* \\frac{184}{21}$\n",
        "\n"
      ]
    }
  ]
}