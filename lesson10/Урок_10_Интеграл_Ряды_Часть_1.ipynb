{
  "nbformat": 4,
  "nbformat_minor": 0,
  "metadata": {
    "colab": {
      "name": "Урок 10. Интеграл. Ряды. Часть 1.ipynb",
      "provenance": [],
      "collapsed_sections": []
    },
    "kernelspec": {
      "name": "python3",
      "display_name": "Python 3"
    },
    "language_info": {
      "name": "python"
    }
  },
  "cells": [
    {
      "cell_type": "code",
      "metadata": {
        "id": "glOQg_n3Y9Pn"
      },
      "source": [
        ""
      ],
      "execution_count": null,
      "outputs": []
    },
    {
      "cell_type": "markdown",
      "metadata": {
        "id": "QZyd5BkdZAJT"
      },
      "source": [
        "# Тема 8 “Понятие об интеграле”"
      ]
    },
    {
      "cell_type": "markdown",
      "metadata": {
        "id": "sTdbPM6_ZF8F"
      },
      "source": [
        "## 1 Найти неопределенный интеграл:\n",
        "\n",
        "$$\n",
        "\\int (2x^2 - 2x - 1 + sinx - cosx + lnx - e^x)dx\n",
        "$$"
      ]
    },
    {
      "cell_type": "markdown",
      "metadata": {
        "id": "9a-Nliwday-h"
      },
      "source": [
        "### Решение\n",
        "\n",
        "$$\n",
        "\\int (2x^2 - 2x - 1 + sinx - cosx + lnx - e^x)dx = \\int 2x^2dx - \\int 2xdx - \\int 1dx + \\int sinx*dx - \\int cosx*dx + \\int lnx*dx - \\int e^xdx = 2\\frac{x^3}{3} - 2\\frac{x^2}{2} - x - cosx - sinx + x·ln(x) - x - e^x + C\n",
        "$$"
      ]
    },
    {
      "cell_type": "markdown",
      "metadata": {
        "id": "NDrLlQSRZ3q6"
      },
      "source": [
        "## 2 Найти неопределенный интеграл:\n",
        "\n",
        "$$\n",
        "\\int (2x + 6xz^2 - 5x^2y - 3lnz)dx\n",
        "$$"
      ]
    },
    {
      "cell_type": "markdown",
      "metadata": {
        "id": "r1Z2pWW0euPo"
      },
      "source": [
        "### Решение\n",
        "\n",
        "$$\n",
        "\\int (2x + 6xz^2 - 5x^2y - 3lnz)dx = \\int 2xdx + \\int 6xz^2 dx - \\int 5x^2y dx - \\int 3lnz dx = 2\\frac{x^2}{2} + 6z^2\\frac{x^2}{2} - 5y\\frac{x^3}{3} - 3 lnz x + C\n",
        "$$"
      ]
    },
    {
      "cell_type": "markdown",
      "metadata": {
        "id": "_eCqNMpRaTbN"
      },
      "source": [
        "## 3 Вычислить определенный интеграл:\n",
        "\n",
        "$$\n",
        "\\int_0^\\pi 3x^2sin(2x)dx\n",
        "$$"
      ]
    },
    {
      "cell_type": "markdown",
      "metadata": {
        "id": "satzVdNmfaX4"
      },
      "source": [
        "### Решение\n",
        "\n",
        "Произведем интегрирование по частям с помощью формулы $ \\int udv = uv - \\int vdu $\n",
        "\n",
        "$$\n",
        "\\int_0^\\pi 3x^2sin(2x)dx = 3 \\int_0^\\pi x^2sin(2x)dx =  3 \\int_0^\\pi x^2sin(2x)dx\n",
        "$$\n",
        "\n",
        "$ u = sinx$\n",
        "\n",
        "$ dv = x^2dx$\n",
        "\n",
        "Находим диференциал $du$:\n",
        "\n",
        "$ du = (sinx)` = cosx dx$\n",
        "\n",
        "Находим функцию $dv$, для этого интегрируем правую часть нижнего равенства\n",
        "\n",
        "$$\n",
        "v = \\int x^2dx = \\frac{x^3}{3}\n",
        "$$\n",
        "\n",
        "\n",
        "Собираем все вместе\n",
        "\n",
        "$$\n",
        "\\int udv = uv - \\int vdu = 3 (sinx * \\frac{x^3}{3} - \\int \\frac{x^3}{3} cosx dx) =3 * \\frac{1}{3} (sinx * x^3 - \\int x^3 cosx dx) = sinx * x^3 - \\int x^3 cosx dx\n",
        "$$\n",
        "\n",
        "Повторим со второй частью ответа интегрирование по частям"
      ]
    },
    {
      "cell_type": "markdown",
      "metadata": {
        "id": "phBl9XIxah-c"
      },
      "source": [
        "### 4 Найти неопределенный интеграл:\n",
        "\n",
        "$$\n",
        "\\int \\frac{1}{\\sqrt{x+1}}dx\n",
        "$$"
      ]
    },
    {
      "cell_type": "markdown",
      "metadata": {
        "id": "Y9YNq602ucQr"
      },
      "source": [
        "### Решение\n",
        "\n",
        "\n",
        "\n",
        "$$\n",
        "\\int \\frac{1}{\\sqrt{x+1}}dx\n",
        "$$\n",
        "\n",
        "Предположим, что $ t= \\sqrt{x+1}$, тогда $dt = d(x + 1)^{\\frac{1}{2}}`dx = \\frac{1}{2(x+1)^{\\frac{1}{2}}}dx = > dx = dt * 2(x+1)^{\\frac{1}{2}}$\n",
        "\n",
        "\n",
        "$$\n",
        "\\int \\frac{1}{t} * 2t * dt= \\int 2 dt = 2t + C\n",
        "$$\n",
        "\n",
        "\n",
        "$$\n",
        "2t + C = 2(x+1)^{\\frac{1}{2}} + C\n",
        "$$"
      ]
    }
  ]
}