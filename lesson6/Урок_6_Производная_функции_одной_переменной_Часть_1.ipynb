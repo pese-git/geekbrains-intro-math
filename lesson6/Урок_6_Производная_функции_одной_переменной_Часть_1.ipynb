{
  "nbformat": 4,
  "nbformat_minor": 0,
  "metadata": {
    "colab": {
      "name": "Урок 6. Производная функции одной переменной. Часть 1.ipynb",
      "provenance": []
    },
    "kernelspec": {
      "name": "python3",
      "display_name": "Python 3"
    },
    "language_info": {
      "name": "python"
    }
  },
  "cells": [
    {
      "cell_type": "markdown",
      "metadata": {
        "id": "pxtQZ-qwzTnn"
      },
      "source": [
        "# Тема 6 “Понятие о производной”"
      ]
    },
    {
      "cell_type": "markdown",
      "metadata": {
        "id": "_HaAq5YFzWQe"
      },
      "source": [
        "## 1 Найти производную выражения:\n",
        "\n",
        "\n",
        "a. $sin x * cos x$\n",
        "\n",
        "b. $ln(2x + 1)^3$\n",
        "\n",
        "c. $\\sqrt{sin^2(ln(x^3))}$\n",
        "\n",
        "d. $\\frac{x^4}{ln(x)}$"
      ]
    },
    {
      "cell_type": "markdown",
      "metadata": {
        "id": "Ot6kr75O52UJ"
      },
      "source": [
        "### Решение\n"
      ]
    },
    {
      "cell_type": "markdown",
      "metadata": {
        "id": "BFZGYveL77vB"
      },
      "source": [
        "a. $(sin x * cos x)^` = (sin x)^` * cos x + sin x * (cos x)^` = cos x * cos x + sin x * (-sin x) = cos^2 x - sin^2 x$"
      ]
    },
    {
      "cell_type": "markdown",
      "metadata": {
        "id": "pKwtf8-B787C"
      },
      "source": [
        "b. $(ln(2x + 1)^3)^` = 3 * ln(2x + 1) * (2x + 1)^` = 3 * ln(2x+1) * 2 = 6 * ln(2x+1)$"
      ]
    },
    {
      "cell_type": "markdown",
      "metadata": {
        "id": "N_S9lZt0-A6G"
      },
      "source": [
        "c. $(\\sqrt{sin^2(ln(x^3))})^` = (sin^{2 \\frac{1}{2}}(ln(x^3)))^` = (sin(ln(x^3)))^` = cos(ln(x^3)) * (ln(x^3))^` = cos(ln(x^3)) * \\frac{1}{x^3} * (x^3)^` = cos(ln(x^3)) * \\frac{1}{x^3} * 3x^2 = \\frac{3}{x}cos(ln(x^3))$"
      ]
    },
    {
      "cell_type": "markdown",
      "metadata": {
        "id": "AVa7Lvc3_h-_"
      },
      "source": [
        "d. $(\\frac{x^4}{ln(x)})^` = \\frac{(x^4)^` * ln(x) - x^4 *(ln(x))^`}{ln^2(x)} = \\frac{4x^3 * ln(x) - x^4 * \\frac{1}{x}}{ln^2(x)} = \\frac{4x^3 * ln(x) - x^3}{ln^2(x)} = \\frac{x^3(4 * ln(x) - 1)}{ln^2(x)}$"
      ]
    },
    {
      "cell_type": "markdown",
      "metadata": {
        "id": "6JitjBnb1GF4"
      },
      "source": [
        "## 2 Найти выражение производной функции и ее значение в точке:\n",
        "\n",
        "$f(x) = cos(x^2 + 3x)$, $x_0 = \\sqrt{\\pi}$"
      ]
    },
    {
      "cell_type": "markdown",
      "metadata": {
        "id": "Cz60etxyBHIw"
      },
      "source": [
        "### Решение\n",
        "\n",
        "\n",
        "$f(x) = cos(x^2 + 3x)$, $x_0 = \\sqrt{\\pi}$\n",
        "\n",
        "$f(x) = cos(x^2 + 3x)^` = -sin(x^2 + 3x) * (x^2 + 3x)^` = -sin(x^2 + 3x) * (2x + 3)$\n",
        "\n",
        "$-sin(\\sqrt{\\pi}^2 + 3\\sqrt{\\pi})(2\\sqrt{\\pi} + 3) = -sin(\\pi + 3\\sqrt{\\pi})(2\\sqrt{\\pi} + 3)$"
      ]
    },
    {
      "cell_type": "markdown",
      "metadata": {
        "id": "R4wVcsUP1vDz"
      },
      "source": [
        "## 3 * Найти значение производной функции в точке:\n",
        "\n",
        "$f(x) = \\frac{x^3 - x^2 - x - 1}{1 + 2x + 3x^2 - 4x^3}$, $x_0 = 0$"
      ]
    },
    {
      "cell_type": "markdown",
      "metadata": {
        "id": "CX8FfP9DuqUA"
      },
      "source": [
        "### Решение\n",
        "\n",
        "$f(x) = \\frac{x^3 - x^2 - x - 1}{1 + 2x + 3x^2 - 4x^3}$, $x_0 = 0$\n",
        "\n",
        "$f^`(x) = (\\frac{x^3 - x^2 - x - 1}{1 + 2x + 3x^2 - 4x^3})^` = \\frac{(x^3 - x^2 - x - 1)^`(1 + 2x + 3x^2 - 4x^3)-(x^3 - x^2 - x - 1)(1 + 2x + 3x^2 - 4x^3)^`}{(1 + 2x + 3x^2 - 4x^3)^2} = \\frac{(3x^2 - 2x - 1)(1 + 2x + 3x^2 - 4x^3)-(x^3 - x^2 - x - 1)(2 + 6x - 12x^2)}{(1 + 2x + 3x^2 - 4x^3)(1 + 2x + 3x^2 - 4x^3)} = \\frac{(3x^2 + 6x^3 + 9x^4 - 12x^5 - 2x - 4x^2-6x^3 + 8x^4 - 1 - 2z - 3x^2 + 4x^3) - (2x^3 + 6x^4 - 12x^5 - 2x^2 - 6x^3 + 12x^4 - 2x - 6x^2 + 12x^3 - 2 - 6x + 12x^2)}{(1 + 2x + 3x^2 - 4x^3)(1 + 2x + 3x^2 - 4x^3)}=...$\n",
        "\n",
        "$\\frac{(3*0^2 - 2*0 - 1)(1 + 2*0 + 3*0^2 - 4*0^3)-(0^3 - 0^2 - 0 - 1)(2 + 6*0 - 12*0^2)}{(1 + 2*0 + 3*0^2 - 4*0^3)^2} = \\frac{(0 - 0 - 1)(1 + 0 + 0 - 0) - (0 - 0 - 0 - 1)(2 + 0 - 0)}{(1 + 0 + 0 - 0)^2} = \\frac{(-1)(1) - (-1)(2)}{(1)^2} = \\frac{-1 + 2}{1} = \\frac{1}{1} = 1$"
      ]
    },
    {
      "cell_type": "markdown",
      "metadata": {
        "id": "DdH4eMf52k64"
      },
      "source": [
        "## 4 Найти угол наклона касательной к графику функции в точке:\n",
        "\n",
        "$f(x) = \\sqrt{3x} * ln x$, $x_0 = 1$"
      ]
    },
    {
      "cell_type": "markdown",
      "metadata": {
        "id": "i0iY_LBg2Ece"
      },
      "source": [
        "### Решение\n",
        "\n",
        "$f(x) = \\sqrt{3x} * ln x$, $x_0 = 1$\n",
        "\n",
        "$f^`(x) = (\\sqrt{3x} * ln x)^` = ((3x)^\\frac{1}{2} * ln x)^` = ((3x)^\\frac{1}{2})^` * ln x + (3x)^\\frac{1}{2} * (ln x)^` = (3x)^\\frac{1}{4} * ln x + (3x)^\\frac{1}{2} * \\frac{1}{x}$\n",
        "\n",
        "$(3*1)^\\frac{1}{4} * ln 1 + (3*1)^\\frac{1}{2} * \\frac{1}{1} = 3^\\frac{1}{4} * 0 + 3^\\frac{1}{2} * \\frac{1}{1} = 0 + \\sqrt{3} * 1 = \\sqrt{3}$"
      ]
    }
  ]
}