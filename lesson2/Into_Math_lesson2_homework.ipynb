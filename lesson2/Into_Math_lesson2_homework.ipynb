{
  "nbformat": 4,
  "nbformat_minor": 0,
  "metadata": {
    "colab": {
      "name": "Into-Math-lesson2-homework.ipynb",
      "provenance": [],
      "collapsed_sections": []
    },
    "kernelspec": {
      "name": "python3",
      "display_name": "Python 3"
    },
    "language_info": {
      "name": "python"
    }
  },
  "cells": [
    {
      "cell_type": "markdown",
      "metadata": {
        "id": "nc4NfNLkyot1"
      },
      "source": [
        " # Тема “Введение в математический анализ”\n",
        "\n",
        "    1. Как соотносятся понятия “множество” и “последовательность”? (в ответе использовать слова типа: часть, целое, общее, частное, родитель, дочерний субъект и т. д.)\n",
        "    2. Прочитать высказывания математической логики, построить их отрицания и установить истинность.\n",
        "\n",
        "\n",
        "$\\forall_y \\in [0;1] : sgn(y) = 1  $\n",
        "\n",
        "\n",
        "$\\forall_n \\in \\mathbb {N} > 2 : \\exists_{x,y,z} \\in \\mathbb {N} : x^n = y^n + z^n $\n",
        "\n",
        "$ \\forall_x \\in \\mathbb {R} \\exists X \\in \\mathbb {R} : X > x $\n",
        "\n",
        "$ \\forall_x \\in \\mathbb {C} \\not \\exists y \\in \\mathbb {C} : x > y || x < y $\n",
        "\n",
        "$ \\forall_y \\in [0; \\frac{\\pi}{2}] \\exists \\epsilon > 0 : \\sin y < \\sin(y + \\epsilon)$\n",
        "\n",
        "$ \\forall_y \\in [0; \\pi] \\exists \\epsilon > 0 : \\cos y > \\cos(y + \\epsilon)$\n",
        "\n",
        "$\\exists x : x \\notin \\{\\mathbb {N},\\mathbb {Z},\\mathbb {Q},\\mathbb {R},\\mathbb {C}\\}$\n"
      ]
    },
    {
      "cell_type": "markdown",
      "metadata": {
        "id": "UIzT2TTY7NSz"
      },
      "source": [
        "## 1. Как соотносятся понятия “множество” и “последовательность”? (в ответе использовать слова типа: часть, целое, общее, частное, родитель, дочерний субъект и т. д.)"
      ]
    },
    {
      "cell_type": "markdown",
      "metadata": {
        "id": "GxU9Dnp76hKo"
      },
      "source": [
        "> 1. Множество может содержать в себе последовательность чисел. Или последовательность чисел может быть частью множества "
      ]
    },
    {
      "cell_type": "markdown",
      "metadata": {
        "id": "03Ltimrk7Dpq"
      },
      "source": [
        "## 2. Прочитать высказывания математической логики, построить их отрицания и установить истинность."
      ]
    },
    {
      "cell_type": "markdown",
      "metadata": {
        "id": "vj-ZPh7Q5KTt"
      },
      "source": [
        "> $\\forall_y \\in [0;1] : sgn(y) = 1  $ \n",
        "Все значения $y$ принадлежат интервалу от $0$ до $1$ включительно, где $sgn$ (сигнум) от $y$ равна 1\n",
        "\n",
        "\n",
        "> $\\exists_y \\in [0;1] : sgn(y) \\not = 1  $ "
      ]
    },
    {
      "cell_type": "markdown",
      "metadata": {
        "id": "Ti0W0wJl7vuX"
      },
      "source": [
        "> $\\forall_n \\in \\mathbb {N} > 2 : \\exists_{x,y,z} \\in \\mathbb {N} : x^n = y^n + z^n $\n",
        "Все значения $n$ принадлежат  множеству натуральных чисел, которые больше 2, где существуют значения $x,y,z$ принадлежащие множеству натуральных чисел, где суммма $y$ в степени $n$ и $z$ в степени $n$ дают результат $x$ в степени $n$\n",
        "\n",
        "> $\\exists_n \\in \\mathbb {N} > 2 : \\forall_{x,y,z} \\in \\mathbb {N} : x^n \\not = y^n + z^n $"
      ]
    },
    {
      "cell_type": "markdown",
      "metadata": {
        "id": "v4o5_LTq9Jdp"
      },
      "source": [
        "> $ \\forall_x \\in \\mathbb {R} \\exists X \\in \\mathbb {R} : X > x $\n",
        "Все значения x принадлежат множеству рациональных чисел....\n",
        "\n",
        "> $ \\forall_x \\in \\mathbb {R} \\forall X \\in \\mathbb {R} : X \\not > x $"
      ]
    },
    {
      "cell_type": "markdown",
      "metadata": {
        "id": "D4lc2ROe_7Lc"
      },
      "source": [
        "Установить истинность - это провеить на тафтологию? Необходимо построить таблицу истинности?"
      ]
    },
    {
      "cell_type": "markdown",
      "metadata": {
        "id": "6Lcf80IlzOQh"
      },
      "source": [
        "# Тема “Множество”\n",
        "    1. Даны три множества a,b и с. Необходимо выполнить все изученные виды бинарных операций над всеми комбинациями множеств.\n",
        "    2. *Выполнить задание 1 на языке Python"
      ]
    },
    {
      "cell_type": "markdown",
      "metadata": {
        "id": "W07VhBhE_oRW"
      },
      "source": [
        "## 1. Даны три множества a,b и с. Необходимо выполнить все изученные виды бинарных операций над всеми комбинациями множеств."
      ]
    },
    {
      "cell_type": "markdown",
      "metadata": {
        "id": "5HaU5LKR_zv5"
      },
      "source": [
        "### Объединение множеств __\"дизъюнкция\"__ (логическая сумма)\n",
        "\n",
        "\n",
        "$\\{1,3\\} \\cup \\{2,3,4\\} $ = \\{1,2,3,4\\}"
      ]
    },
    {
      "cell_type": "code",
      "metadata": {
        "colab": {
          "base_uri": "https://localhost:8080/"
        },
        "id": "AI0nFv0z_uQF",
        "outputId": "5068fcce-285b-404e-b0f3-2580ec5dca0d"
      },
      "source": [
        "my_fruits = {\"apple\", \"orange\"}\n",
        "your_fruits = {\"orange\", \"banana\", \"pear\"}\n",
        "\n",
        "# Для объединения множеств можно использовать оператор `|`,\n",
        "# оба операнда должны быть объектами типа set\n",
        "our_fruits = my_fruits | your_fruits\n",
        "print(our_fruits)"
      ],
      "execution_count": null,
      "outputs": [
        {
          "output_type": "stream",
          "text": [
            "{'banana', 'pear', 'apple', 'orange'}\n"
          ],
          "name": "stdout"
        }
      ]
    },
    {
      "cell_type": "markdown",
      "metadata": {
        "id": "dJBdGid2ACNx"
      },
      "source": [
        "### Пересечение множеств __\"конъюнкция\"__ (логическое умножение)\n",
        "\n",
        "$\\{1,3\\} \\cap \\{2,3,4\\} $ = \\{3\\}"
      ]
    },
    {
      "cell_type": "code",
      "metadata": {
        "colab": {
          "base_uri": "https://localhost:8080/"
        },
        "id": "q3cw7c3iBv1c",
        "outputId": "b927943b-4b5c-42f8-979e-2b9f7e030f5c"
      },
      "source": [
        "my_fruits = {\"apple\", \"orange\"}\n",
        "your_fruits = {\"orange\", \"banana\", \"pear\"}\n",
        "\n",
        "# Для пересечения множеств можно использовать оператор `&`,\n",
        "# оба операнда должны быть объектами типа set\n",
        "our_fruits = my_fruits & your_fruits\n",
        "print(our_fruits)"
      ],
      "execution_count": null,
      "outputs": [
        {
          "output_type": "stream",
          "text": [
            "{'orange'}\n"
          ],
          "name": "stdout"
        }
      ]
    },
    {
      "cell_type": "markdown",
      "metadata": {
        "id": "32_6bRM_CZaI"
      },
      "source": [
        "###  Разность\n",
        "\n",
        "$\\{1,2\\} \\setminus \\{2,3,4\\} $ = \\{1\\} $\n",
        "\n",
        "\n",
        "$\\{2,3,4\\} \\setminus \\{1,2\\} $ = \\{3,4\\} $"
      ]
    },
    {
      "cell_type": "code",
      "metadata": {
        "colab": {
          "base_uri": "https://localhost:8080/"
        },
        "id": "YpORJaAMCtnd",
        "outputId": "f14d3778-69ad-489b-8ad3-40f6a871b5cd"
      },
      "source": [
        "my_fruits = {\"apple\", \"orange\"}\n",
        "your_fruits = {\"orange\", \"banana\", \"pear\"}\n",
        "\n",
        "# Для разности множеств можно использовать оператор `-`,\n",
        "# оба операнда должны быть объектами типа set\n",
        "our_fruits = my_fruits - your_fruits\n",
        "print(our_fruits)\n",
        "\n",
        "our_fruits =  your_fruits - my_fruits\n",
        "print(our_fruits)"
      ],
      "execution_count": null,
      "outputs": [
        {
          "output_type": "stream",
          "text": [
            "{'apple'}\n",
            "{'banana', 'pear'}\n"
          ],
          "name": "stdout"
        }
      ]
    },
    {
      "cell_type": "markdown",
      "metadata": {
        "id": "KzgSZxLaD_ZJ"
      },
      "source": [
        "### Симметрическая разность. __исключающее «или»__\n",
        "\n",
        "$\\{1,2\\} \\Delta \\{2,3,4\\} $ = \\{1\\} $\n",
        "\n",
        "\n",
        "$\\{2,3,4\\} \\Delta \\{1,2\\} $ = \\{3,4\\} $"
      ]
    },
    {
      "cell_type": "code",
      "metadata": {
        "colab": {
          "base_uri": "https://localhost:8080/"
        },
        "id": "lp7G03_jEUUZ",
        "outputId": "84f98162-0dfa-44c2-a943-76700108e8cf"
      },
      "source": [
        "non_positive = {-3, -2, -1, 0}\n",
        "non_negative = {0, 1, 2, 3}\n",
        "\n",
        "# оператор `^` может применяться\n",
        "# только для объектов типа set\n",
        "non_zero = non_positive ^ non_negative\n",
        "print(non_zero)"
      ],
      "execution_count": null,
      "outputs": [
        {
          "output_type": "stream",
          "text": [
            "{1, 2, 3, -1, -3, -2}\n"
          ],
          "name": "stdout"
        }
      ]
    },
    {
      "cell_type": "markdown",
      "metadata": {
        "id": "l4HH3sY2zWfz"
      },
      "source": [
        "# Тема 3 “Последовательность”\n",
        "    1. Даны 4 последовательности. Необходимо:\n",
        "        a. исследовать их на монотонность; \n",
        "        b. исследовать на ограниченность;\n",
        "        c. найти пятый по счету член.\n",
        "\n",
        "\n",
        "$\\{a_n\\}_{n=1}^{\\infty} = 2^n - n$\n",
        "\n",
        "$\\{b_n\\}_{n=2}^{\\infty} = \\frac{1}{1 - n}$\n",
        "\n",
        "$\\{c_n\\}_{n=1}^{\\infty} = -1n + \\sqrt{2n}$\n",
        "\n",
        "$\\{d_n\\}_{n=1}^{\\infty} = (-1)^{2n} + \\frac{1}{n^2}$\n",
        "\n",
        "2 Найти 12-й член заданной неявно последовательности\n",
        "\n",
        "\n",
        "$a_1 = 128, a_{n+1}-a_n = 6$\n",
        "\n",
        "\n",
        "3 *На языке Python предложить алгоритм вычисляющий численно предел с точностью \n",
        "$$\\epsilon = 10^{-7}$$\n",
        "\n",
        "\n",
        "$\\lim_{n\\to +\\infty}{\\frac{n} {\\sqrt[n]{n!}}}$\n",
        "\n",
        "\n",
        "4 *Предложить оптимизацию алгоритма, полученного в задании 3, ускоряющую его сходимость."
      ]
    },
    {
      "cell_type": "markdown",
      "metadata": {
        "id": "cQAlOmHzmlLB"
      },
      "source": [
        "### 1. Даны 4 последовательности."
      ]
    },
    {
      "cell_type": "markdown",
      "metadata": {
        "id": "yxzdOZ2Gms3r"
      },
      "source": [
        "> $\\{a_n\\}_{n=1}^{\\infty} = 2^n - n$\n",
        "\n",
        "\n",
        "a. Последовательность монотонна возврастающая, так как $ n \\in \\mathbb {N}, \\frac{\\{a_n\\}}{\\{a_{n+1}\\}} < 1$\n",
        "\n",
        "b. Последовательность ограничена снизу, так как выплняется условие  $a_n \\ge m$\n",
        "\n",
        "c. $2^5 - 5 = 32 - 5 = 27$ "
      ]
    },
    {
      "cell_type": "markdown",
      "metadata": {
        "id": "FVprjFZLqK-_"
      },
      "source": [
        "> $\\{b_n\\}_{n=2}^{\\infty} = \\frac{1}{1 - n}$\n",
        "\n",
        "\n",
        "a. Последовательность монотонна убывающей, так как $ n \\in \\mathbb {N}, \\frac{\\{b_n\\}}{\\{b_{n+1}\\}} > 1$\n",
        "\n",
        "b. Последовательность ограничена сверху, так как выплняется условие  $b_n \\le m$\n",
        "\n",
        "c. $\\frac{1}{1 - 5} = \\frac{1}{-4} = - 0.25$"
      ]
    },
    {
      "cell_type": "markdown",
      "metadata": {
        "id": "-kN3yeodspZ4"
      },
      "source": [
        "> $\\{c_n\\}_{n=1}^{\\infty} = -1n + \\sqrt{2n}$\n",
        "\n",
        "\n",
        "a. Последовательность монотонна убывающей, так как $ n \\in \\mathbb {N}, \\frac{\\{c_n\\}}{\\{c_{n+1}\\}} > 1$\n",
        "\n",
        "b. Последовательность ограничена сверху, так как выплняется условие  $b_n \\le m$\n",
        "\n",
        "c. $-1*5 + \\sqrt{2*5} = -5 + \\sqrt{10} = -5 + \\sqrt{4*(2 + \\frac{1}{2})} = -5 + 2\\sqrt{2.5}$"
      ]
    },
    {
      "cell_type": "markdown",
      "metadata": {
        "id": "Cj8odchHt943"
      },
      "source": [
        "> $\\{d_n\\}_{n=1}^{\\infty} = (-1)^{2n} + \\frac{1}{n^2}$\n",
        "\n",
        "\n",
        "a. Последовательность монотонна убывающей, так как $ n \\in \\mathbb {N}, \\frac{\\{c_n\\}}{\\{c_{n+1}\\}} > 1$\n",
        "\n",
        "b. Последовательность ограничена сверху, так как выплняется условие  $b_n \\le m$\n",
        "\n",
        "c. $(-1)^{2*5} + \\frac{1}{5^2} = (-1)^{10} + \\frac{1}{25} = 1 + 0.04 = 1.04$"
      ]
    },
    {
      "cell_type": "markdown",
      "metadata": {
        "id": "KxvpqxnlvYWU"
      },
      "source": [
        "### 2 Найти 12-й член заданной неявно последовательности\n",
        "\n",
        "\n",
        "$a_1 = 128, a_{n+1}-a_n = 6$\n",
        "\n",
        "\n",
        "$a_{2}-128 = 6$\n",
        "\n",
        "\n",
        "$a_{2} = 128 + 6 = 134$\n",
        "\n",
        "$a_1=128, a_2=134, ..., a_{12} = 128 + 6 * 12 = 128 + 72 = 200$"
      ]
    },
    {
      "cell_type": "markdown",
      "metadata": {
        "id": "7cmxBVPfwa9I"
      },
      "source": [
        "### 3 *На языке Python предложить алгоритм вычисляющий численно предел с точностью \n",
        "$$\\epsilon = 10^{-7}$$\n",
        "\n",
        "\n",
        "$\\lim_{n\\to +\\infty}{\\frac{n} {\\sqrt[n]{n!}}}$\n"
      ]
    },
    {
      "cell_type": "code",
      "metadata": {
        "colab": {
          "base_uri": "https://localhost:8080/"
        },
        "id": "fAJ7GMsxwhgP",
        "outputId": "92946dc7-1882-4bf0-d6d3-3a4496f9abaf"
      },
      "source": [
        "from sympy import limit, factorial, Symbol, oo\n",
        "#from sympy.abc import x\n",
        "\n",
        "def fac(n):\n",
        "\n",
        "  factorial = 1\n",
        "  while n > 1:\n",
        "    factorial *= x\n",
        "    n -= 1\n",
        "  return factorial\n",
        "\n",
        "\n",
        "def calc_formula(x):\n",
        "  return x / pow(factorial(x), (1/x))\n",
        "\n",
        "\n",
        "x= symbols('x')\n",
        "\n",
        "\n",
        "print( limit(calc_formula(x), x, oo))\n",
        "\n",
        "print(calc_formula(1))"
      ],
      "execution_count": 36,
      "outputs": [
        {
          "output_type": "stream",
          "text": [
            "E\n",
            "1\n"
          ],
          "name": "stdout"
        }
      ]
    },
    {
      "cell_type": "markdown",
      "metadata": {
        "id": "sQqz7l5S6iwo"
      },
      "source": [
        "### 4 *Предложить оптимизацию алгоритма, полученного в задании 3, ускоряющую его сходимость.\n",
        "\n",
        "\n",
        "Если использовать методы из библиотеки, то оптимизировать нечего.\n",
        "\n",
        "Если писать собственный алгоритм, то факториал лучше считать лениво или как минимум в цикле, а не через рекурсию\n",
        "\n",
        "Ну и ограничить интервал по верхней планке"
      ]
    }
  ]
}